{
 "cells": [
  {
   "cell_type": "markdown",
   "id": "f07a2859-84bb-4afe-a905-b99cbc46b0cc",
   "metadata": {},
   "source": [
    "### Importing the wine dataset"
   ]
  },
  {
   "cell_type": "code",
   "execution_count": 1,
   "id": "cc5cd31b-fa55-49aa-b236-b90b019e0a98",
   "metadata": {},
   "outputs": [],
   "source": [
    "import json"
   ]
  },
  {
   "cell_type": "code",
   "execution_count": 2,
   "id": "1e0aee4e-f122-41e8-a379-96f281cb1685",
   "metadata": {},
   "outputs": [],
   "source": [
    "with open (\"wine.json\") as json_file:\n",
    "    wine_data = json.load(json_file)"
   ]
  },
  {
   "cell_type": "markdown",
   "id": "e3104295-bc65-4142-8244-eb66edc65263",
   "metadata": {},
   "source": [
    "### Exercise 1: How many wine reviews are included in the dataset?"
   ]
  },
  {
   "cell_type": "code",
   "execution_count": 3,
   "id": "1f9016ae-e7de-4974-83c7-be5f451342b5",
   "metadata": {},
   "outputs": [
    {
     "data": {
      "text/plain": [
       "' The wine dataset includes 129971 wine reviews.'"
      ]
     },
     "execution_count": 3,
     "metadata": {},
     "output_type": "execute_result"
    }
   ],
   "source": [
    "f\" The wine dataset includes {len(wine_data)} wine reviews.\""
   ]
  },
  {
   "cell_type": "markdown",
   "id": "e6a7c25b-3c58-4917-ba4e-060137c150b4",
   "metadata": {},
   "source": [
    "##### Another way of doing it by using `index`!"
   ]
  },
  {
   "cell_type": "code",
   "execution_count": 4,
   "id": "08189ab3-7c66-4bfd-a16c-6981b7cf968e",
   "metadata": {},
   "outputs": [
    {
     "data": {
      "text/plain": [
       "' The wine dataset includes 129971 wine reviews.'"
      ]
     },
     "execution_count": 4,
     "metadata": {},
     "output_type": "execute_result"
    }
   ],
   "source": [
    "f\" The wine dataset includes {wine_data.index(wine_data[-1])+1} wine reviews.\""
   ]
  },
  {
   "cell_type": "markdown",
   "id": "4ec139aa-f94b-413d-ba9b-db5bf109ade7",
   "metadata": {},
   "source": [
    "### Exercise 2: What's the length of the last review?\n",
    "Add a new `length` key to each review in the list, containing the number of words in the `description` value."
   ]
  },
  {
   "cell_type": "code",
   "execution_count": 5,
   "id": "a0664f2b-a8bb-48de-a194-c1dc6e72ffaa",
   "metadata": {},
   "outputs": [],
   "source": [
    "for review in wine_data:\n",
    "    review[\"length\"] = len(review[\"description\"].split())"
   ]
  },
  {
   "cell_type": "markdown",
   "id": "fd74deb9-762e-485b-bb1c-16caf9a1abc7",
   "metadata": {},
   "source": [
    "##### To better visualize it, let's look at the last wine in the dataset. A new `length` key has been added to the wine's review: 27 words are in the \"description\" value!"
   ]
  },
  {
   "cell_type": "code",
   "execution_count": 6,
   "id": "b3b4e9f1-bd0e-4631-9908-b2e9b4f60521",
   "metadata": {
    "scrolled": true,
    "tags": []
   },
   "outputs": [
    {
     "data": {
      "text/plain": [
       "{'points': '90',\n",
       " 'title': 'Domaine Schoffit 2012 Lieu-dit Harth Cuvée Caroline Gewurztraminer (Alsace)',\n",
       " 'description': 'Big, rich and off-dry, this is powered by intense spiciness and rounded texture. Lychees dominate the fruit profile, giving an opulent feel to the aftertaste. Drink now.',\n",
       " 'taster_name': 'Roger Voss',\n",
       " 'taster_twitter_handle': '@vossroger',\n",
       " 'price': 21,\n",
       " 'designation': 'Lieu-dit Harth Cuvée Caroline',\n",
       " 'variety': 'Gewürztraminer',\n",
       " 'region_1': 'Alsace',\n",
       " 'region_2': None,\n",
       " 'province': 'Alsace',\n",
       " 'country': 'France',\n",
       " 'winery': 'Domaine Schoffit',\n",
       " 'length': 27}"
      ]
     },
     "execution_count": 6,
     "metadata": {},
     "output_type": "execute_result"
    }
   ],
   "source": [
    "wine_data[-1]"
   ]
  },
  {
   "cell_type": "code",
   "execution_count": 7,
   "id": "c923056e-ddc7-4e0c-aaa1-694a80c0b550",
   "metadata": {
    "tags": []
   },
   "outputs": [
    {
     "name": "stdout",
     "output_type": "stream",
     "text": [
      "The length of the last review is 27.\n"
     ]
    }
   ],
   "source": [
    "print(\"The length of the last review is \"+ str(wine_data[-1][\"length\"]) + \".\")"
   ]
  },
  {
   "cell_type": "markdown",
   "id": "3441f693-1bea-4eaf-87e8-b82b0d584393",
   "metadata": {},
   "source": [
    "### Exercise 3: How many different countries have wines reviewed in the dataset?"
   ]
  },
  {
   "cell_type": "code",
   "execution_count": 8,
   "id": "ef18d8d2-3931-491c-9b33-50849614102a",
   "metadata": {},
   "outputs": [
    {
     "data": {
      "text/plain": [
       "'43 different countries have wines reviewed in the dataset!'"
      ]
     },
     "execution_count": 8,
     "metadata": {},
     "output_type": "execute_result"
    }
   ],
   "source": [
    "country_list = {countries[\"country\"] for countries in wine_data}\n",
    "\n",
    "different_countries = len(set(filter(None, country_list)))\n",
    "f\"{different_countries} different countries have wines reviewed in the dataset!\""
   ]
  },
  {
   "cell_type": "markdown",
   "id": "e1729a48-c07a-4248-ad94-b727a0ca9d5c",
   "metadata": {},
   "source": [
    "### Exercise 4: Build a dictionary with the following structure: \n",
    "    {country: # of wines reviewed from that country}"
   ]
  },
  {
   "cell_type": "code",
   "execution_count": 9,
   "id": "764b6c63-cedc-4bf0-9605-76114175c4a9",
   "metadata": {
    "scrolled": true,
    "tags": []
   },
   "outputs": [
    {
     "data": {
      "text/plain": [
       "{'Italy': 19540,\n",
       " 'Portugal': 5691,\n",
       " 'US': 54504,\n",
       " 'Spain': 6645,\n",
       " 'France': 22093,\n",
       " 'Germany': 2165,\n",
       " 'Argentina': 3800,\n",
       " 'Chile': 4472,\n",
       " 'Australia': 2329,\n",
       " 'Austria': 3345,\n",
       " 'South Africa': 1401,\n",
       " 'New Zealand': 1419,\n",
       " 'Israel': 505,\n",
       " 'Hungary': 146,\n",
       " 'Greece': 466,\n",
       " 'Romania': 120,\n",
       " 'Mexico': 70,\n",
       " 'Canada': 257,\n",
       " None: 63,\n",
       " 'Turkey': 90,\n",
       " 'Czech Republic': 12,\n",
       " 'Slovenia': 87,\n",
       " 'Luxembourg': 6,\n",
       " 'Croatia': 73,\n",
       " 'Georgia': 86,\n",
       " 'Uruguay': 109,\n",
       " 'England': 74,\n",
       " 'Lebanon': 35,\n",
       " 'Serbia': 12,\n",
       " 'Brazil': 52,\n",
       " 'Moldova': 59,\n",
       " 'Morocco': 28,\n",
       " 'Peru': 16,\n",
       " 'India': 9,\n",
       " 'Bulgaria': 141,\n",
       " 'Cyprus': 11,\n",
       " 'Armenia': 2,\n",
       " 'Switzerland': 7,\n",
       " 'Bosnia and Herzegovina': 2,\n",
       " 'Ukraine': 14,\n",
       " 'Slovakia': 1,\n",
       " 'Macedonia': 12,\n",
       " 'China': 1,\n",
       " 'Egypt': 1}"
      ]
     },
     "execution_count": 9,
     "metadata": {},
     "output_type": "execute_result"
    }
   ],
   "source": [
    "country_to_wine_reviews = {}\n",
    "\n",
    "for reviews in wine_data:\n",
    "    if reviews[\"country\"] in country_to_wine_reviews:\n",
    "        country_to_wine_reviews[reviews[\"country\"]] += 1\n",
    "    else:\n",
    "        country_to_wine_reviews[reviews[\"country\"]] = 1\n",
    "country_to_wine_reviews"
   ]
  },
  {
   "cell_type": "markdown",
   "id": "38d2b5c9-c980-4325-b2a1-bfcaa64dfac6",
   "metadata": {},
   "source": [
    "### Exercise 5: Build a dictionary with the following structure: \n",
    "    {country: avg points of wines coming from that country}"
   ]
  },
  {
   "cell_type": "code",
   "execution_count": 10,
   "id": "5705f285-d74c-4b76-8f30-cb61fe1953de",
   "metadata": {
    "scrolled": true,
    "tags": []
   },
   "outputs": [
    {
     "data": {
      "text/plain": [
       "{'Brazil': '84.67',\n",
       " 'Bulgaria': '87.94',\n",
       " 'Moldova': '87.20',\n",
       " 'Argentina': '86.71',\n",
       " 'Serbia': '87.50',\n",
       " 'Egypt': '84.00',\n",
       " 'Hungary': '89.19',\n",
       " 'Lebanon': '87.69',\n",
       " 'Cyprus': '87.18',\n",
       " 'Morocco': '88.57',\n",
       " 'Australia': '88.58',\n",
       " 'Canada': '89.37',\n",
       " 'Czech Republic': '87.25',\n",
       " 'Mexico': '85.26',\n",
       " 'Slovakia': '87.00',\n",
       " 'England': '91.58',\n",
       " 'Chile': '86.49',\n",
       " 'Italy': '88.56',\n",
       " 'Macedonia': '86.83',\n",
       " 'France': '88.85',\n",
       " 'Peru': '83.56',\n",
       " 'Portugal': '88.25',\n",
       " 'Luxembourg': '88.67',\n",
       " 'South Africa': '88.06',\n",
       " 'Israel': '88.47',\n",
       " 'Greece': '87.28',\n",
       " 'Spain': '87.29',\n",
       " 'Ukraine': '84.07',\n",
       " 'Slovenia': '88.07',\n",
       " 'Romania': '86.40',\n",
       " 'Georgia': '87.69',\n",
       " 'Armenia': '87.50',\n",
       " 'New Zealand': '88.30',\n",
       " 'Germany': '89.85',\n",
       " 'China': '89.00',\n",
       " 'US': '88.56',\n",
       " 'Bosnia and Herzegovina': '86.50',\n",
       " 'Uruguay': '86.75',\n",
       " 'Switzerland': '88.57',\n",
       " 'Turkey': '88.09',\n",
       " 'Croatia': '87.22',\n",
       " 'Austria': '90.10',\n",
       " 'India': '90.22'}"
      ]
     },
     "execution_count": 10,
     "metadata": {},
     "output_type": "execute_result"
    }
   ],
   "source": [
    "countries_dictionary = {\n",
    "    reviews[\"country\"] for reviews in wine_data if reviews[\"country\"] != None \n",
    "}\n",
    "\n",
    "countries_to_avg_points = {}\n",
    "\n",
    "for country in countries_dictionary:\n",
    "    length_points = 0\n",
    "    sum_points = 0\n",
    "    for reviews in wine_data:\n",
    "        if reviews[\"country\"] == country:\n",
    "            length_points += 1\n",
    "            sum_points += int(reviews[\"points\"])\n",
    "            \n",
    "    countries_to_avg_points[country] = format(sum_points/length_points,\".2f\")\n",
    "\n",
    "countries_to_avg_points"
   ]
  },
  {
   "cell_type": "markdown",
   "id": "a4778a23-d18f-4517-b3a6-bb284c6a4f0d",
   "metadata": {},
   "source": [
    "### Exercise 6: What's the country that produces the wines with the highest average rating?"
   ]
  },
  {
   "cell_type": "code",
   "execution_count": 11,
   "id": "b9c906e9-3eda-4cf2-9032-331c846c55f7",
   "metadata": {
    "tags": []
   },
   "outputs": [
    {
     "name": "stdout",
     "output_type": "stream",
     "text": [
      "England's rating is 91.58, it is the country with the highest average rating!\n"
     ]
    }
   ],
   "source": [
    "maximum_country_average = max(countries_to_avg_points.values())\n",
    "\n",
    "for key, value in countries_to_avg_points.items():\n",
    "    if value == maximum_country_average:\n",
    "        print(f\"{key}'s rating is {value}, it is the country with the highest average rating!\")"
   ]
  },
  {
   "cell_type": "markdown",
   "id": "b10b4834-a7e6-4821-8622-70798f289970",
   "metadata": {},
   "source": [
    "### Exercise 7: What is the resulting description of the last review?\n",
    "\n",
    "Update each wine's description by adding at the end of each description the following piece of text:\n",
    "    \"This is a {designation} from {country} that scored {points} points\""
   ]
  },
  {
   "cell_type": "code",
   "execution_count": 12,
   "id": "60b5944a-129f-4bc3-95b3-6e59d639def4",
   "metadata": {},
   "outputs": [],
   "source": [
    "for wine in wine_data:\n",
    "    wine['description'] += f\" This is a {wine['designation']} from {wine['country']} that scored {wine['points']} points.\""
   ]
  },
  {
   "cell_type": "code",
   "execution_count": 13,
   "id": "5e70b07b-8aee-4ed6-b9c4-1f0c714b9f9c",
   "metadata": {
    "tags": []
   },
   "outputs": [
    {
     "name": "stdout",
     "output_type": "stream",
     "text": [
      "The resulting description of the last review is ==> Big, rich and off-dry, this is powered by intense spiciness and rounded texture. Lychees dominate the fruit profile, giving an opulent feel to the aftertaste. Drink now. This is a Lieu-dit Harth Cuvée Caroline from France that scored 90 points.\n"
     ]
    }
   ],
   "source": [
    "print (\"The resulting description of the last review is ==>\", wine_data[-1][\"description\"])"
   ]
  },
  {
   "cell_type": "markdown",
   "id": "75eee0da-906d-4f9c-88c6-3c6874c29af0",
   "metadata": {},
   "source": [
    "### Exercise 8: What's the proportion of tasters that have twitter accounts?"
   ]
  },
  {
   "cell_type": "code",
   "execution_count": 14,
   "id": "8331fe9d-247f-41a9-b60c-058aad6d146f",
   "metadata": {},
   "outputs": [
    {
     "name": "stdout",
     "output_type": "stream",
     "text": [
      "The proportion of tasters that have Twitter accounts is 84.21%\n"
     ]
    }
   ],
   "source": [
    "tasters_with_twitter=[]\n",
    "\n",
    "tasters = []\n",
    "\n",
    "for reviews in wine_data:\n",
    "    if reviews[\"taster_twitter_handle\"] != None:\n",
    "        if reviews[\"taster_name\"] != None:\n",
    "            tasters_with_twitter.append(reviews[\"taster_name\"])\n",
    "\n",
    "for reviews in wine_data:\n",
    "    if reviews[\"taster_name\"] != None:\n",
    "        tasters.append(reviews[\"taster_name\"])\n",
    "        \n",
    "proportion = len(set(tasters_with_twitter)) / len(set(tasters)) * 100\n",
    "\n",
    "print (\"The proportion of tasters that have Twitter accounts is\", format(proportion, \".2f\") + \"%\")"
   ]
  }
 ],
 "metadata": {
  "kernelspec": {
   "display_name": "Python 3",
   "language": "python",
   "name": "python3"
  },
  "language_info": {
   "codemirror_mode": {
    "name": "ipython",
    "version": 3
   },
   "file_extension": ".py",
   "mimetype": "text/x-python",
   "name": "python",
   "nbconvert_exporter": "python",
   "pygments_lexer": "ipython3",
   "version": "3.8.8"
  }
 },
 "nbformat": 4,
 "nbformat_minor": 5
}
